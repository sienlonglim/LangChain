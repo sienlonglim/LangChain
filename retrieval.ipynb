{
 "cells": [
  {
   "cell_type": "code",
   "execution_count": 4,
   "metadata": {},
   "outputs": [],
   "source": [
    "from langchain.vectorstores import Chroma\n",
    "from langchain.embeddings.openai import OpenAIEmbeddings\n",
    "\n",
    "persist_directory = 'ignore/chroma/'\n",
    "embedding_function = OpenAIEmbeddings()\n",
    "vector_db = Chroma(embedding_function = embedding_function,\n",
    "                   persist_directory=persist_directory)"
   ]
  },
  {
   "cell_type": "code",
   "execution_count": 5,
   "metadata": {},
   "outputs": [
    {
     "name": "stdout",
     "output_type": "stream",
     "text": [
      "Number of matches: 4\n",
      "Top query\n",
      "('the goal of business should be to start with the wants and needs of a '\n",
      " 'particular customer base, then create a service that delivers ongoing value '\n",
      " 'to those customers. The idea was to turn customers into subscribers in order '\n",
      " 'to develop recurring revenue. I called the context for this change the '\n",
      " 'Subscription Economy. Oh man, did I get a lot of crap for that article. '\n",
      " 'There were comments like: Do you really think we don’t get it, Tien? That we '\n",
      " 'don’t understand the difference between a product and a')\n"
     ]
    }
   ],
   "source": [
    "from pprint import pprint\n",
    "\n",
    "# query it\n",
    "query = \"What is the meaning of a Subscription economy? Give an example\"\n",
    "docs = vector_db.similarity_search(query)\n",
    "print(f'Number of matches: {len(docs)}')\n",
    "print('Top query')\n",
    "pprint(docs[0].page_content)"
   ]
  }
 ],
 "metadata": {
  "kernelspec": {
   "display_name": ".venv",
   "language": "python",
   "name": "python3"
  },
  "language_info": {
   "codemirror_mode": {
    "name": "ipython",
    "version": 3
   },
   "file_extension": ".py",
   "mimetype": "text/x-python",
   "name": "python",
   "nbconvert_exporter": "python",
   "pygments_lexer": "ipython3",
   "version": "3.10.5"
  }
 },
 "nbformat": 4,
 "nbformat_minor": 2
}
