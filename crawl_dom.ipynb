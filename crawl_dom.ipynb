{
 "cells": [
  {
   "cell_type": "code",
   "execution_count": null,
   "metadata": {},
   "outputs": [],
   "source": [
    "from bs4 import BeautifulSoup\n",
    "import urllib                                       "
   ]
  },
  {
   "cell_type": "code",
   "execution_count": null,
   "metadata": {},
   "outputs": [],
   "source": [
    "main_url = ''\n",
    "domain_name = main_url.split('.')\n",
    "visited_sites = []\n",
    "\n",
    "def recursive_crawl(url, visited_sites):\n",
    "    if url not in visited_sites:\n",
    "        soup = BeautifulSoup(urllib.urlopen(url).read())\n",
    "        for link in soup.find_all('a'):\n",
    "            if url not in visited_sites:\n",
    "                visited_sites.append(link.get('href'))"
   ]
  }
 ],
 "metadata": {
  "kernelspec": {
   "display_name": ".venv",
   "language": "python",
   "name": "python3"
  },
  "language_info": {
   "name": "python",
   "version": "3.10.5"
  }
 },
 "nbformat": 4,
 "nbformat_minor": 2
}
